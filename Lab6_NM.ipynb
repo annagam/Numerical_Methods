{
 "cells": [
  {
   "cell_type": "markdown",
   "metadata": {},
   "source": [
    "## Лабораторная работа 6\n",
    "### Анна Гаврилина\n",
    "### Вариант 6"
   ]
  },
  {
   "cell_type": "markdown",
   "metadata": {},
   "source": [
    "## Задача 6.1.6"
   ]
  },
  {
   "cell_type": "code",
   "execution_count": 15,
   "metadata": {},
   "outputs": [],
   "source": [
    "import numpy as np\n",
    "import matplotlib.pyplot as plt\n",
    "%matplotlib inline\n",
    "\n",
    "# условие задачи\n",
    "c = np.array([2.5, -2.1, 0, 0.4, 0.5])\n",
    "a = 1.\n",
    "b = 1.44\n",
    "h = b - a"
   ]
  },
  {
   "cell_type": "code",
   "execution_count": 16,
   "metadata": {},
   "outputs": [],
   "source": [
    "def P(x):\n",
    "    return 2.5 + -2.1 * x + 0.4 * x**3 + 0.5 * x**4"
   ]
  },
  {
   "cell_type": "markdown",
   "metadata": {},
   "source": [
    "Аналитическое решение"
   ]
  },
  {
   "cell_type": "code",
   "execution_count": 22,
   "metadata": {},
   "outputs": [],
   "source": [
    "Integral = 0.821875"
   ]
  },
  {
   "cell_type": "markdown",
   "metadata": {},
   "source": [
    "Формула трапеций и формула Симпсона"
   ]
  },
  {
   "cell_type": "code",
   "execution_count": 18,
   "metadata": {},
   "outputs": [],
   "source": [
    "def trapezoidal(a, b, h) :\n",
    "    x = np.linspace(a, b, round((b - a) / h) + 1)\n",
    "    i = (P(x[0]) + P(x[-1])) / 2 + np.sum(P(x[1:-1]))\n",
    "    Int = i * h\n",
    "    return Int "
   ]
  },
  {
   "cell_type": "code",
   "execution_count": 30,
   "metadata": {},
   "outputs": [],
   "source": [
    "def simpson(a, b, h):\n",
    "    x = np.linspace(a, b, round((b - a) / h) + 1)\n",
    "    i = P(x[0]) + P(x[-1])\n",
    "    i += 2 * np.sum(P(x[1:-1]))\n",
    "    i += 4 * np.sum(P((x[:-1]+x[1:]) / 2.))\n",
    "    i *= h / 6.\n",
    "    return i\n"
   ]
  },
  {
   "cell_type": "code",
   "execution_count": 44,
   "metadata": {},
   "outputs": [
    {
     "name": "stdout",
     "output_type": "stream",
     "text": [
      "True value:  0.821875\n",
      "Trapezoidal:  0.9064664575999997 , Abs Error:  0.08459145759999964\n",
      "Simpson:  0.8219440533333331 , Abs Error:  6.905333333306896e-05\n"
     ]
    }
   ],
   "source": [
    "Integral_T = trapezoidal(a, b, h)\n",
    "Integral_S = simpson(a,b,h)\n",
    "print(\"True value: \", Integral)\n",
    "print(\"Trapezoidal: \",Integral_T, \", Abs Error: \", abs(Integral_T - Integral))\n",
    "print(\"Simpson: \", Integral_S, \", Abs Error: \", abs(Integral_S - Integral))"
   ]
  },
  {
   "cell_type": "markdown",
   "metadata": {},
   "source": [
    "Оценки погрешностей"
   ]
  },
  {
   "cell_type": "code",
   "execution_count": 45,
   "metadata": {},
   "outputs": [],
   "source": [
    "M2 = 15.8976 # максимум второй производной\n",
    "M4 = 12 # максимум четвертой производной"
   ]
  },
  {
   "cell_type": "code",
   "execution_count": 46,
   "metadata": {},
   "outputs": [
    {
     "name": "stdout",
     "output_type": "stream",
     "text": [
      "Оценка погрешности: 0.11285176319999997\n"
     ]
    }
   ],
   "source": [
    "# Формула трапеций\n",
    "print(\"Оценка погрешности:\", M2 * (b - a) * h**2 / 12)\n",
    "\n"
   ]
  },
  {
   "cell_type": "code",
   "execution_count": 47,
   "metadata": {},
   "outputs": [
    {
     "name": "stdout",
     "output_type": "stream",
     "text": [
      "Оценка погрешности: 6.871509333333329e-05\n"
     ]
    }
   ],
   "source": [
    "# Формула Симпсона\n",
    "print(\"Оценка погрешности:\", M4*(b-a)*h**4/2880)"
   ]
  },
  {
   "cell_type": "markdown",
   "metadata": {},
   "source": [
    "Оценить шаги интегрирования, при которых величина погрешности каждой квадратурной формулы будет меньше 0.0001"
   ]
  },
  {
   "cell_type": "code",
   "execution_count": 48,
   "metadata": {},
   "outputs": [],
   "source": [
    "h_t = h\n",
    "h_s = h\n",
    "while M2 * (b-a)* h_t**2 / 12 >= 0.0001:\n",
    "    h_t /= 2\n",
    "while M4 * (b-a) * h_s**4 / 2880 >= 0.0001:\n",
    "    h_s /= 2"
   ]
  },
  {
   "cell_type": "code",
   "execution_count": 49,
   "metadata": {},
   "outputs": [
    {
     "name": "stdout",
     "output_type": "stream",
     "text": [
      "True value:  0.821875\n",
      "Trapezoidal:  0.8218960574569502 , Abs Error:  2.105745695013539e-05\n",
      "Simpson:  0.8219440533333331 , Abs Error:  6.905333333306896e-05\n"
     ]
    }
   ],
   "source": [
    "Integral_T = trapezoidal(a, b, h_t)\n",
    "Integral_S = simpson(a,b,h_s)\n",
    "print(\"True value: \", Integral)\n",
    "print(\"Trapezoidal: \",Integral_T, \", Abs Error: \", abs(Integral_T - Integral))\n",
    "print(\"Simpson: \", Integral_S, \", Abs Error: \", abs(Integral_S - Integral))"
   ]
  },
  {
   "cell_type": "markdown",
   "metadata": {},
   "source": [
    "## Задача 6.6.2"
   ]
  },
  {
   "cell_type": "markdown",
   "metadata": {},
   "source": [
    "Вычислить значение интеграла I из задачи 6.1, используя квадратурную формулу Гаусса с одним, двумя, тремя, четырьмя узлами (см. ПРИЛОЖЕНИЕ 6.C). Определить абсолютную погрешность результата. Построить гистограмму зависимости погрешности от числа узлов. Убедиться, что квадратурные формулы Гаусса с N+1 (N=0,1,2,3) узлом точны для многочленов 1, t,...,tm, где m=2N+1."
   ]
  },
  {
   "cell_type": "code",
   "execution_count": 52,
   "metadata": {},
   "outputs": [],
   "source": [
    "# условие задачи\n",
    "c = np.array([2.5, -2.1, 0, 0.4, 0.5])\n",
    "a = 1.\n",
    "b = 1.44\n",
    "h = b - a\n",
    "\n",
    "def P(x):\n",
    "    return 2.5 + -2.1 * x + 0.4 * x**3 + 0.5 * x**4\n",
    "\n",
    "Integral = 0.821875 #анатилическое решение"
   ]
  },
  {
   "cell_type": "markdown",
   "metadata": {},
   "source": [
    "Узлы и весы квадратурной формулы Гаусса"
   ]
  },
  {
   "cell_type": "code",
   "execution_count": 51,
   "metadata": {},
   "outputs": [],
   "source": [
    "A = [[2],\n",
    "     [1, 1], \n",
    "     [0.55555555555556, 0.88888888888888, 0.55555555555556],  \n",
    "     [0.347854845137454, 0.652145154862546, 0.652145154862546, 0.347854845137454]]\n",
    "t = [[0],\n",
    "     [-0.577350269189626, 0.577350269189626],\n",
    "     [-0.77459666929954, 0, 0.77459666929954],\n",
    "     [-0.861136311594052, -0.339981043584856, 0.339981043584856, 0.861136311594052]]"
   ]
  },
  {
   "cell_type": "code",
   "execution_count": 70,
   "metadata": {},
   "outputs": [],
   "source": [
    "def gauss(a, b, A, t):\n",
    "    summa = np.sum(np.array([A[i] * P((a + b) / 2 + (b - a) / 2. * t[i]) for i in range(len(A))]))\n",
    "    Int = (b - a) / 2. * summa\n",
    "    return Int"
   ]
  },
  {
   "cell_type": "markdown",
   "metadata": {},
   "source": [
    "Построить гистограмму зависимости погрешности от числа узлов."
   ]
  },
  {
   "cell_type": "code",
   "execution_count": 58,
   "metadata": {},
   "outputs": [
    {
     "name": "stdout",
     "output_type": "stream",
     "text": [
      "Число узлов:  1\n",
      "Результат:  0.7796828511999999\n",
      "Абсолютная погрешность:  0.04219214880000011\n",
      "---------------------------------------------\n",
      "Число узлов:  2\n",
      "Результат:  0.8218295281777777\n",
      "Абсолютная погрешность:  4.54718222223649e-05\n",
      "---------------------------------------------\n",
      "Число узлов:  3\n",
      "Результат:  0.8218753382463404\n",
      "Абсолютная погрешность:  3.382463403811542e-07\n",
      "---------------------------------------------\n",
      "Число узлов:  4\n",
      "Результат:  0.8218753382399997\n",
      "Абсолютная погрешность:  3.3823999967541596e-07\n",
      "---------------------------------------------\n"
     ]
    }
   ],
   "source": [
    "err = []\n",
    "for i in range(0, 4):\n",
    "    result = gauss(a, b, A[i], t[i])\n",
    "    print (\"Число узлов: \", i + 1)\n",
    "    print(\"Результат: \", result)\n",
    "    error = abs(result - Integral)\n",
    "    print(\"Абсолютная погрешность: \", error)\n",
    "    print(\"---------------------------------------------\")\n",
    "    err.append(error)"
   ]
  },
  {
   "cell_type": "code",
   "execution_count": 63,
   "metadata": {},
   "outputs": [
    {
     "data": {
      "image/png": "[encoded data removed]",
      "text/plain": [
       "<Figure size 432x288 with 1 Axes>"
      ]
     },
     "metadata": {},
     "output_type": "display_data"
    }
   ],
   "source": [
    "plt.bar([1, 2, 3, 4], err, color='c')\n",
    "plt.xlabel(\"number of nodes\")\n",
    "plt.ylabel(\"abs_error\");"
   ]
  },
  {
   "cell_type": "code",
   "execution_count": 81,
   "metadata": {},
   "outputs": [
    {
     "name": "stdout",
     "output_type": "stream",
     "text": [
      "N = 1\n",
      "m = 0   err = 0.33968285119999997\n",
      "------------------------------------------------\n",
      "m = 1   err = 0.24288285119999997\n",
      "------------------------------------------------\n",
      "N = 2\n",
      "m = 0   err = 0.3818295281777777\n",
      "------------------------------------------------\n",
      "m = 1   err = 0.2850295281777777\n",
      "------------------------------------------------\n",
      "m = 2   err = 0.15983486151111104\n",
      "------------------------------------------------\n",
      "m = 3   err = 0.0031247118222221815\n",
      "------------------------------------------------\n",
      "N = 3\n",
      "m = 0   err = 0.38187533824634046\n",
      "------------------------------------------------\n",
      "m = 1   err = 0.28507533824634046\n",
      "------------------------------------------------\n",
      "m = 2   err = 0.15988067157967378\n",
      "------------------------------------------------\n",
      "m = 3   err = 0.0030789017536594354\n",
      "------------------------------------------------\n",
      "m = 4   err = 0.2164719462336595\n",
      "------------------------------------------------\n",
      "m = 5   err = 0.49747473646299256\n",
      "------------------------------------------------\n",
      "N = 4\n",
      "m = 0   err = 0.38187533823999975\n",
      "------------------------------------------------\n",
      "m = 1   err = 0.28507533823999975\n",
      "------------------------------------------------\n",
      "m = 2   err = 0.15988067157333308\n",
      "------------------------------------------------\n",
      "m = 3   err = 0.003078901760000141\n",
      "------------------------------------------------\n",
      "m = 4   err = 0.2164719462400002\n",
      "------------------------------------------------\n",
      "m = 5   err = 0.49747473646933327\n",
      "------------------------------------------------\n",
      "m = 6   err = 0.8694367539726626\n",
      "------------------------------------------------\n",
      "m = 7   err = 1.3641778979479546\n",
      "------------------------------------------------\n"
     ]
    }
   ],
   "source": [
    "for N in range(0, 4):\n",
    "    m = 2 * N + 1\n",
    "    print(\"N =\", N + 1)\n",
    "    for j in range(0, m + 1):\n",
    "        true = (b**(j + 1) - a**(j + 1)) / (j + 1)\n",
    "        error = abs(gauss(a, b, A[N], t[N]) - true) \n",
    "        print (\"m =\", j, \"  err =\", error)\n",
    "        print(\"------------------------------------------------\")\n"
   ]
  },
  {
   "cell_type": "markdown",
   "metadata": {},
   "source": [
    "## Задача 6.6.6"
   ]
  },
  {
   "cell_type": "code",
   "execution_count": 71,
   "metadata": {},
   "outputs": [],
   "source": [
    "# условие задачи\n",
    "c = np.array([2.5, -2.1, 0, 0.4, 0.5])\n",
    "a = 1.\n",
    "b = 1.44\n",
    "h = b - a\n",
    "\n",
    "def P(x):\n",
    "    return 2.5 + -2.1 * x + 0.4 * x**3 + 0.5 * x**4\n",
    "\n",
    "Integral = 0.821875 #анатилическое решение\n",
    "A = [[2],\n",
    "     [1, 1], \n",
    "     [0.55555555555556, 0.88888888888888, 0.55555555555556],  \n",
    "     [0.347854845137454, 0.652145154862546, 0.652145154862546, 0.347854845137454]]\n",
    "t = [[0],\n",
    "     [-0.577350269189626, 0.577350269189626],\n",
    "     [-0.77459666929954, 0, 0.77459666929954],\n",
    "     [-0.861136311594052, -0.339981043584856, 0.339981043584856, 0.861136311594052]]"
   ]
  },
  {
   "cell_type": "code",
   "execution_count": 72,
   "metadata": {},
   "outputs": [],
   "source": [
    "def gauss(a, b, A, t):\n",
    "    summa = np.sum(np.array([A[i] * P((a + b) / 2 + (b - a) / 2. * t[i]) for i in range(len(A))]))\n",
    "    Int = (b - a) / 2. * summa\n",
    "    return Int"
   ]
  },
  {
   "cell_type": "code",
   "execution_count": 73,
   "metadata": {},
   "outputs": [
    {
     "name": "stdout",
     "output_type": "stream",
     "text": [
      "Число узлов:  1\n",
      "Результат:  0.7796828511999999\n",
      "Абсолютная погрешность:  0.04219214880000011\n",
      "---------------------------------------------\n",
      "Число узлов:  2\n",
      "Результат:  0.8218295281777777\n",
      "Абсолютная погрешность:  4.54718222223649e-05\n",
      "---------------------------------------------\n",
      "Число узлов:  3\n",
      "Результат:  0.8218753382463404\n",
      "Абсолютная погрешность:  3.382463403811542e-07\n",
      "---------------------------------------------\n",
      "Число узлов:  4\n",
      "Результат:  0.8218753382399997\n",
      "Абсолютная погрешность:  3.3823999967541596e-07\n",
      "---------------------------------------------\n"
     ]
    }
   ],
   "source": [
    "err = []\n",
    "for i in range(0, 4):\n",
    "    result = gauss(a, b, A[i], t[i])\n",
    "    print (\"Число узлов: \", i + 1)\n",
    "    print(\"Результат: \", result)\n",
    "    error = abs(result - Integral)\n",
    "    print(\"Абсолютная погрешность: \", error)\n",
    "    print(\"---------------------------------------------\")\n",
    "    err.append(error)"
   ]
  },
  {
   "cell_type": "code",
   "execution_count": 76,
   "metadata": {},
   "outputs": [
    {
     "data": {
      "image/png": "[encoded data removed]",
      "text/plain": [
       "<Figure size 432x288 with 1 Axes>"
      ]
     },
     "metadata": {},
     "output_type": "display_data"
    }
   ],
   "source": [
    "plt.bar([1, 2, 3, 4], err, color='m')\n",
    "plt.yscale('log')\n",
    "plt.xlabel(\"number of nodes\")\n",
    "plt.ylabel(\"abs_error\");"
   ]
  },
  {
   "cell_type": "code",
   "execution_count": 82,
   "metadata": {},
   "outputs": [
    {
     "name": "stdout",
     "output_type": "stream",
     "text": [
      "N = 1\n",
      "m = 0   err = 0.33968285119999997\n",
      "------------------------------------------------\n",
      "m = 1   err = 0.24288285119999997\n",
      "------------------------------------------------\n",
      "N = 2\n",
      "m = 0   err = 0.3818295281777777\n",
      "------------------------------------------------\n",
      "m = 1   err = 0.2850295281777777\n",
      "------------------------------------------------\n",
      "m = 2   err = 0.15983486151111104\n",
      "------------------------------------------------\n",
      "m = 3   err = 0.0031247118222221815\n",
      "------------------------------------------------\n",
      "N = 3\n",
      "m = 0   err = 0.38187533824634046\n",
      "------------------------------------------------\n",
      "m = 1   err = 0.28507533824634046\n",
      "------------------------------------------------\n",
      "m = 2   err = 0.15988067157967378\n",
      "------------------------------------------------\n",
      "m = 3   err = 0.0030789017536594354\n",
      "------------------------------------------------\n",
      "m = 4   err = 0.2164719462336595\n",
      "------------------------------------------------\n",
      "m = 5   err = 0.49747473646299256\n",
      "------------------------------------------------\n",
      "N = 4\n",
      "m = 0   err = 0.38187533823999975\n",
      "------------------------------------------------\n",
      "m = 1   err = 0.28507533823999975\n",
      "------------------------------------------------\n",
      "m = 2   err = 0.15988067157333308\n",
      "------------------------------------------------\n",
      "m = 3   err = 0.003078901760000141\n",
      "------------------------------------------------\n",
      "m = 4   err = 0.2164719462400002\n",
      "------------------------------------------------\n",
      "m = 5   err = 0.49747473646933327\n",
      "------------------------------------------------\n",
      "m = 6   err = 0.8694367539726626\n",
      "------------------------------------------------\n",
      "m = 7   err = 1.3641778979479546\n",
      "------------------------------------------------\n"
     ]
    }
   ],
   "source": [
    "for N in range(0, 4):\n",
    "    m = 2 * N + 1\n",
    "    print(\"N =\", N + 1)\n",
    "    for j in range(0, m + 1):\n",
    "        true = (b**(j + 1) - a**(j + 1)) / (j + 1)\n",
    "        error = abs(gauss(a, b, A[N], t[N]) - true) \n",
    "        print (\"m =\", j, \"  err =\", error)\n",
    "        print(\"------------------------------------------------\")\n"
   ]
  },
  {
   "cell_type": "markdown",
   "metadata": {},
   "source": []
  },
  {
   "cell_type": "markdown",
   "metadata": {},
   "source": []
  },
  {
   "cell_type": "code",
   "execution_count": 85,
   "metadata": {},
   "outputs": [],
   "source": []
  },
  {
   "cell_type": "code",
   "execution_count": null,
   "metadata": {},
   "outputs": [],
   "source": []
  },
  {
   "cell_type": "code",
   "execution_count": null,
   "metadata": {},
   "outputs": [],
   "source": []
  },
  {
   "cell_type": "code",
   "execution_count": 91,
   "metadata": {},
   "outputs": [],
   "source": []
  },
  {
   "cell_type": "code",
   "execution_count": null,
   "metadata": {},
   "outputs": [],
   "source": []
  },
  {
   "cell_type": "code",
   "execution_count": null,
   "metadata": {},
   "outputs": [],
   "source": []
  }
 ],
 "metadata": {
  "kernelspec": {
   "display_name": "Python 3",
   "language": "python",
   "name": "python3"
  },
  "language_info": {
   "codemirror_mode": {
    "name": "ipython",
    "version": 3
   },
   "file_extension": ".py",
   "mimetype": "text/x-python",
   "name": "python",
   "nbconvert_exporter": "python",
   "pygments_lexer": "ipython3",
   "version": "3.6.8"
  }
 },
 "nbformat": 4,
 "nbformat_minor": 2
}
