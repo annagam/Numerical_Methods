{
 "cells": [
  {
   "cell_type": "markdown",
   "metadata": {},
   "source": [
    "## Лабораторная работа №4\n",
    "### Анна Гаврилина\n",
    "### Вариант 6: 4.1.6, 4.2, 4.5.2, 4.7.2"
   ]
  },
  {
   "cell_type": "markdown",
   "metadata": {},
   "source": [
    "## Задача 4.1.6 "
   ]
  },
  {
   "cell_type": "markdown",
   "metadata": {},
   "source": [
    "Дана система уравнений Ax=b. Найти решение системы с помощью метода Гаусса. Выполнить 10 итераций по методу Зейделя. Принимая решение, полученное с помощью метода Гаусса за точное, найти величину абсолютной погрешности итерационного решения."
   ]
  },
  {
   "cell_type": "code",
   "execution_count": 1,
   "metadata": {},
   "outputs": [],
   "source": [
    "import numpy as np\n",
    "import matplotlib.pyplot as plt"
   ]
  },
  {
   "cell_type": "code",
   "execution_count": 4,
   "metadata": {},
   "outputs": [],
   "source": [
    "#Задаю матрицу A и вектор b\n",
    "A = np.array([[7.92, 3.36, -2.24, 1.98],\n",
    "            [-13.86, 18.20, 0, 3.96],\n",
    "            [-2.97, 0.20, 4.80, 0],\n",
    "            [5.94, 0, -10.60, 16.83]])\n",
    "b = np.array([-1.956, 62.8, -4.16, 48.31])"
   ]
  },
  {
   "cell_type": "code",
   "execution_count": 14,
   "metadata": {},
   "outputs": [
    {
     "name": "stdout",
     "output_type": "stream",
     "text": [
      "Solution: \n",
      " [[-2.02228096]\n",
      " [ 1.42904531]\n",
      " [-2.17749656]\n",
      " [ 2.21276799]]\n"
     ]
    }
   ],
   "source": [
    "#Решение СЛАУ \n",
    "x = np.linalg.solve(A,b)\n",
    "print(\"Solution: \\n\",x.reshape(4,1))"
   ]
  },
  {
   "cell_type": "code",
   "execution_count": 7,
   "metadata": {},
   "outputs": [],
   "source": [
    "#Приведеение системы к удобному для итераций виду - x=Bx+c\n",
    "n = len(b)\n",
    "B = np.zeros([n,n])\n",
    "c = np.zeros(n)"
   ]
  },
  {
   "cell_type": "code",
   "execution_count": 8,
   "metadata": {},
   "outputs": [],
   "source": [
    "for i in range(n):\n",
    "    c[i] = b[i]/A[i][i]\n",
    "    for j in range(n):\n",
    "        if j != i:\n",
    "            B[i,j] = -A[i,j]/A[i,i]"
   ]
  },
  {
   "cell_type": "markdown",
   "metadata": {},
   "source": [
    "##### Проверка выполнения достаточного условия сходимости: ||B||∞<1"
   ]
  },
  {
   "cell_type": "code",
   "execution_count": 12,
   "metadata": {},
   "outputs": [
    {
     "name": "stdout",
     "output_type": "stream",
     "text": [
      "||B|| = 0.9827688651218064\n"
     ]
    }
   ],
   "source": [
    "print('||B|| =',np.linalg.norm(B,np.inf))"
   ]
  },
  {
   "cell_type": "markdown",
   "metadata": {},
   "source": [
    "Меньше 1, условие выполнено"
   ]
  },
  {
   "cell_type": "code",
   "execution_count": 40,
   "metadata": {},
   "outputs": [],
   "source": [
    "#Метод Зейделя\n",
    "def Seidel(B,c,max_iter,x0,eps):\n",
    "    x_buf = x0\n",
    "    for i in range(max_iter):\n",
    "        tmp = x_buf\n",
    "        x_buf = np.dot(B,tmp) + c\n",
    "        if (np.linalg.norm(x_buf - tmp,np.inf) < eps):\n",
    "            return x_buf\n",
    "    return x_buf\n",
    "\n"
   ]
  },
  {
   "cell_type": "code",
   "execution_count": 41,
   "metadata": {},
   "outputs": [
    {
     "name": "stdout",
     "output_type": "stream",
     "text": [
      "Result when x0=[0,0,0,0]:\n",
      " [[-2.01905]\n",
      " [ 1.43132]\n",
      " [-2.17344]\n",
      " [ 2.20019]]\n"
     ]
    }
   ],
   "source": [
    "iterations = 10\n",
    "eps = 1e-5\n",
    "\n",
    "x01 = np.zeros(n)\n",
    "\n",
    "my_x1 = Seidel(B,c,10,x01,eps)\n",
    "my_x1 = np.round(my_x,5)\n",
    "print(\"Result when x0=[0,0,0,0]:\\n\", my_x.reshape(4,1))\n"
   ]
  },
  {
   "cell_type": "markdown",
   "metadata": {},
   "source": [
    "#### Величина абсолютной погрешности итерационного решения"
   ]
  },
  {
   "cell_type": "code",
   "execution_count": 42,
   "metadata": {},
   "outputs": [
    {
     "name": "stdout",
     "output_type": "stream",
     "text": [
      "Величина абсолютной погрешности итерационного решения: 0.012577992371523461\n"
     ]
    }
   ],
   "source": [
    "print(\"Величина абсолютной погрешности итерационного решения:\",np.linalg.norm(x - my_x,np.inf))"
   ]
  },
  {
   "cell_type": "markdown",
   "metadata": {},
   "source": [
    "Другое начальное приближение, очень близкое к истинному решению"
   ]
  },
  {
   "cell_type": "code",
   "execution_count": 50,
   "metadata": {},
   "outputs": [
    {
     "name": "stdout",
     "output_type": "stream",
     "text": [
      "\n",
      "Result when x0=[-2,1,-2,2]:\n",
      " [[-2.01905]\n",
      " [ 1.43132]\n",
      " [-2.17344]\n",
      " [ 2.20019]]\n"
     ]
    }
   ],
   "source": [
    "x02 = [2,1,-2,2]\n",
    "my_x2 = Seidel(B,c,10,x02,eps)\n",
    "my_x2 = np.round(my_x2,5)\n",
    "print(\"\\nResult when x0=[-2,1,-2,2]:\\n\", my_x.reshape(4,1))"
   ]
  },
  {
   "cell_type": "code",
   "execution_count": 49,
   "metadata": {},
   "outputs": [
    {
     "name": "stdout",
     "output_type": "stream",
     "text": [
      "Величина абсолютной погрешности итерационного решения: 0.009057992371523493\n"
     ]
    }
   ],
   "source": [
    "print(\"Величина абсолютной погрешности итерационного решения:\",np.linalg.norm(x - my_x2,np.inf))"
   ]
  },
  {
   "cell_type": "markdown",
   "metadata": {},
   "source": [
    "Абсолютная погрешность серьзено уменьшилась, но все еще превосходит eps=1e-5. 10 итераций не достатчно для получения желаемой точности."
   ]
  },
  {
   "cell_type": "markdown",
   "metadata": {},
   "source": [
    "## Задача 4.2"
   ]
  },
  {
   "cell_type": "markdown",
   "metadata": {},
   "source": [
    "Для системы уравнений Ax=b из задачи 4.1 найти решение по методу Зейделя с точностью ε= 10−6 , взяв любое начальное приближение. Предусмотреть подсчет количества итераций, потребовавшихся для достижения точности ε."
   ]
  },
  {
   "cell_type": "code",
   "execution_count": 56,
   "metadata": {},
   "outputs": [],
   "source": [
    "#Метод Зейделя с подсчетом количества итераций\n",
    "def Seidel1(B, c, max_iter, x0, eps):\n",
    "    count = 0\n",
    "    x_buf = x0\n",
    "    for i in range(max_iter):\n",
    "        count += 1\n",
    "        tmp = x_buf\n",
    "        x_buf = np.dot(B,tmp) + c\n",
    "        if (np.linalg.norm(x_buf - tmp,np.inf) < eps):\n",
    "            return x_buf, count\n",
    "    return x_buf, count"
   ]
  },
  {
   "cell_type": "code",
   "execution_count": 54,
   "metadata": {},
   "outputs": [],
   "source": [
    "eps1 = 1e-6\n",
    "max_iter = 1e-3"
   ]
  },
  {
   "cell_type": "code",
   "execution_count": 55,
   "metadata": {},
   "outputs": [],
   "source": [
    "x03 = [1,1,1,1]"
   ]
  },
  {
   "cell_type": "code",
   "execution_count": 61,
   "metadata": {},
   "outputs": [
    {
     "name": "stdout",
     "output_type": "stream",
     "text": [
      "\n",
      "Result when x0=[1,1,1,1]:\n",
      " [[-2.01905]\n",
      " [ 1.43132]\n",
      " [-2.17344]\n",
      " [ 2.20019]]\n",
      "\n",
      "Количетсво итераций:  27\n"
     ]
    }
   ],
   "source": [
    "my_x3, counter = Seidel1(B, c, max_iter, x03, eps1)\n",
    "my_x3 = np.round(my_x3,5)\n",
    "print(\"\\nResult when x0=[1,1,1,1]:\\n\", my_x.reshape(4,1))\n",
    "print(\"\\nКоличетсво итераций: \", counter)"
   ]
  },
  {
   "cell_type": "markdown",
   "metadata": {},
   "source": [
    "## Задача 4.5.2"
   ]
  },
  {
   "cell_type": "markdown",
   "metadata": {},
   "source": [
    "Дана система уравнений Ax=b, где A – симметричная положительно определенная матрица. Найти решение системы с точностью ε =10−5 с помощью метода релаксации (для этого модифицировать функцию\n",
    "zeid, реализующую метод Зейделя). Определить экспериментально параметр релаксации ω, при котором точность ε достигается при наименьшем числе итераций. Построить график зависимости числа итераций от параметра релаксации.\n",
    "\n"
   ]
  },
  {
   "cell_type": "markdown",
   "metadata": {},
   "source": [
    "Задание матрицы А и веткора b"
   ]
  },
  {
   "cell_type": "code",
   "execution_count": 64,
   "metadata": {},
   "outputs": [],
   "source": [
    "A = np.array([[3.2, 0.3, 0.9, -0.7, 1.1],\n",
    "             [0.3, 8.1, 1.8, -2., 0.8],\n",
    "             [0.9, 1.8, 4.1, -0.1, 0.2],\n",
    "             [-0.7, -2., -0.1, 3.6, -0.6],\n",
    "             [1.1, 0.8, 0.2, -0.6, 4]])\n",
    "b = np.array([1., 0, 3.2, -2., -3. ])"
   ]
  },
  {
   "cell_type": "code",
   "execution_count": 70,
   "metadata": {},
   "outputs": [
    {
     "name": "stdout",
     "output_type": "stream",
     "text": [
      "A: \n",
      " [[ 3.2  0.3  0.9 -0.7  1.1]\n",
      " [ 0.3  8.1  1.8 -2.   0.8]\n",
      " [ 0.9  1.8  4.1 -0.1  0.2]\n",
      " [-0.7 -2.  -0.1  3.6 -0.6]\n",
      " [ 1.1  0.8  0.2 -0.6  4. ]]\n",
      "'b: \n",
      " [[ 1. ]\n",
      " [ 0. ]\n",
      " [ 3.2]\n",
      " [-2. ]\n",
      " [-3. ]]\n"
     ]
    }
   ],
   "source": [
    "print(\"A: \\n\",A)\n",
    "print(\"'b: \\n\",b.reshape(5,1))"
   ]
  },
  {
   "cell_type": "code",
   "execution_count": 86,
   "metadata": {},
   "outputs": [
    {
     "name": "stdout",
     "output_type": "stream",
     "text": [
      "SOLUTION: \n",
      " [ 0.22687671 -0.31839504  0.8952413  -0.81610733 -0.91589025]\n"
     ]
    }
   ],
   "source": [
    "x_task5 = np.linalg.solve(A,b)\n",
    "print(\"SOLUTION: \\n\",x_task5)"
   ]
  },
  {
   "cell_type": "markdown",
   "metadata": {},
   "source": [
    "Метод релаксации SOR (модифицирую метод Зейделя)"
   ]
  },
  {
   "cell_type": "code",
   "execution_count": 73,
   "metadata": {},
   "outputs": [],
   "source": [
    "def SOR(B, c, max_iter, x0, eps, omega):\n",
    "    count = 0\n",
    "    x_buf = x0\n",
    "    for i in range(max_iter):\n",
    "        count += 1\n",
    "        tmp = x_buf\n",
    "        x_buf = np.dot(B,tmp) + c\n",
    "        x_buf = omega * x_buf + (1 - omega) * tmp\n",
    "        if (np.linalg.norm(x_buf - tmp,np.inf) < eps):\n",
    "            return x_buf, count\n",
    "    return x_buf, count"
   ]
  },
  {
   "cell_type": "code",
   "execution_count": 85,
   "metadata": {},
   "outputs": [
    {
     "name": "stdout",
     "output_type": "stream",
     "text": [
      "SOR RESULT :\n",
      " [ 0.22692 -0.31836  0.8952  -0.81606 -0.91591]\n",
      "\n",
      "Количество итераций: 51\n"
     ]
    }
   ],
   "source": [
    "n = len(b)\n",
    "B = np.zeros([n,n])\n",
    "c = np.zeros(n)\n",
    "for i in range(n):\n",
    "    c[i] = b[i]/A[i][i]\n",
    "    for j in range(n):\n",
    "        if j != i:\n",
    "            B[i,j] = -A[i,j]/A[i,i]\n",
    "            \n",
    "x0 = np.array([1,1,1,1,1])\n",
    "x_SOR, count = SOR(B, c , 1000, x0, 1e-5, 0.4 )\n",
    "print('SOR RESULT :\\n',np.round(x_SOR, 5))\n",
    "print('\\nКоличество итераций:',count)"
   ]
  },
  {
   "cell_type": "markdown",
   "metadata": {},
   "source": [
    "##### График зависимости числа итераций от параметра релаксации."
   ]
  },
  {
   "cell_type": "code",
   "execution_count": 109,
   "metadata": {},
   "outputs": [
    {
     "name": "stderr",
     "output_type": "stream",
     "text": [
      "/anaconda3/lib/python3.6/site-packages/ipykernel_launcher.py:8: RuntimeWarning: overflow encountered in add\n",
      "  \n",
      "/anaconda3/lib/python3.6/site-packages/ipykernel_launcher.py:9: RuntimeWarning: overflow encountered in subtract\n",
      "  if __name__ == '__main__':\n",
      "/anaconda3/lib/python3.6/site-packages/ipykernel_launcher.py:8: RuntimeWarning: overflow encountered in multiply\n",
      "  \n"
     ]
    }
   ],
   "source": [
    "omegas = np.linspace(0.1, 2, 20)\n",
    "iterations = []\n",
    "for i in omegas:\n",
    "    x_SOR, iter = SOR(B, c, 1000, x0, 1e-5, i)\n",
    "    iterations.append(iter)"
   ]
  },
  {
   "cell_type": "code",
   "execution_count": 110,
   "metadata": {},
   "outputs": [
    {
     "data": {
      "text/plain": [
       "Text(0, 0.5, 'NUMBER of ITERATIONS')"
      ]
     },
     "execution_count": 110,
     "metadata": {},
     "output_type": "execute_result"
    },
    {
     "data": {
      "image/png": "[encoded data removed]",
      "text/plain": [
       "<Figure size 432x288 with 1 Axes>"
      ]
     },
     "metadata": {},
     "output_type": "display_data"
    }
   ],
   "source": [
    "plt.plot(omegas, iterations,c='m')\n",
    "plt.xlabel('OMEGA')\n",
    "plt.ylabel('NUMBER of ITERATIONS')"
   ]
  },
  {
   "cell_type": "markdown",
   "metadata": {},
   "source": [
    "## Задача 4.7.2"
   ]
  },
  {
   "cell_type": "markdown",
   "metadata": {},
   "source": [
    "Дана система уравнений Ax=b, где A – симметричная положительно определенная матрица\n",
    "размерности n х n. Найти решение системы с точностью ε=10−6 с помощью метода простой итерации с\n",
    "оптимальным выбором итерационного параметра, а также с помощью метода, указанного в индивидуальном варианте. (Для метода релаксации обосновать выбор параметра релаксации ω.) Сравнить скорость сходимости\n",
    "методов.\n",
    "УКАЗАНИЕ. При проверке необходимого и достаточного условия сходимости итерационных методов для нахождения собственных значений матриц воспользоваться встроенной функцией eigenvals(M) пакета MATHCAD (либо функцией numpy.linalg.eigvals), возвращающей собственные значения матрицы M."
   ]
  },
  {
   "cell_type": "code",
   "execution_count": 189,
   "metadata": {},
   "outputs": [],
   "source": [
    "# Задаю матрицу А и вектор b\n",
    "n = 30\n",
    "m = 2"
   ]
  },
  {
   "cell_type": "code",
   "execution_count": 190,
   "metadata": {},
   "outputs": [],
   "source": [
    "q = 0.993 + (-1)**m * m * 10**(-4)\n",
    "tau = np.sum([q**(2*i) for i in range(1,n+1)])"
   ]
  },
  {
   "cell_type": "code",
   "execution_count": 191,
   "metadata": {},
   "outputs": [],
   "source": [
    "t = m + n\n",
    "b = np.array([t*q**(i) for i in range(1,n+1)])"
   ]
  },
  {
   "cell_type": "code",
   "execution_count": 192,
   "metadata": {},
   "outputs": [],
   "source": [
    "A = np.zeros((n, n))\n",
    "for i in range(n):\n",
    "    for j in range(n):\n",
    "        if (i != j):\n",
    "            A[i][j] = tau + (q**i + q**j) * t\n",
    "        else:\n",
    "            A[i][j] = tau+2 * q**(i) * t + t**2"
   ]
  },
  {
   "cell_type": "code",
   "execution_count": 183,
   "metadata": {},
   "outputs": [
    {
     "data": {
      "text/plain": [
       "1.5531373502007073e+131"
      ]
     },
     "execution_count": 183,
     "metadata": {},
     "output_type": "execute_result"
    }
   ],
   "source": [
    "np.linalg.det(A)"
   ]
  },
  {
   "cell_type": "code",
   "execution_count": 193,
   "metadata": {},
   "outputs": [
    {
     "name": "stdout",
     "output_type": "stream",
     "text": [
      "Решение библиотечной функции:\n",
      " [[0.01038278]\n",
      " [0.01022414]\n",
      " [0.01006658]\n",
      " [0.00991009]\n",
      " [0.00975466]\n",
      " [0.0096003 ]\n",
      " [0.00944698]\n",
      " [0.0092947 ]\n",
      " [0.00914346]\n",
      " [0.00899325]\n",
      " [0.00884406]\n",
      " [0.00869588]\n",
      " [0.00854871]\n",
      " [0.00840254]\n",
      " [0.00825737]\n",
      " [0.00811318]\n",
      " [0.00796998]\n",
      " [0.00782774]\n",
      " [0.00768648]\n",
      " [0.00754617]\n",
      " [0.00740682]\n",
      " [0.00726842]\n",
      " [0.00713096]\n",
      " [0.00699443]\n",
      " [0.00685883]\n",
      " [0.00672416]\n",
      " [0.0065904 ]\n",
      " [0.00645754]\n",
      " [0.0063256 ]\n",
      " [0.00619455]]\n"
     ]
    }
   ],
   "source": [
    "x_res = np.linalg.solve(A, b)\n",
    "print(\"Решение библиотечной функции:\\n\", x_res.reshape(x_res.size,1))"
   ]
  },
  {
   "cell_type": "code",
   "execution_count": 194,
   "metadata": {},
   "outputs": [],
   "source": [
    "#Приведение системы к удобному для итераций виду\n",
    "n = len(b)\n",
    "B = np.zeros([n,n])\n",
    "c = np.zeros(n)\n",
    "for i in range(n):\n",
    "    c[i] = b[i]/A[i][i]\n",
    "    for j in range(n):\n",
    "        if j != i:\n",
    "            B[i,j] = -A[i,j]/A[i,i]\n",
    "            "
   ]
  },
  {
   "cell_type": "code",
   "execution_count": 201,
   "metadata": {},
   "outputs": [],
   "source": [
    "def Jacobi(x0, B, c, max_iter, eps):\n",
    "    norm = np.linalg.norm(B, ord = np.inf)\n",
    "    eps = eps * (1-norm) / norm\n",
    "    count = 0\n",
    "    for i in range(max_iter):\n",
    "        count += 1\n",
    "        x = c - np.dot(B,x0)\n",
    "        if np.linalg.norm(x-x0, ord = np.inf) < eps:\n",
    "            return x, count\n",
    "        else:\n",
    "            x0 = np.copy(x)\n",
    "    return x, count"
   ]
  },
  {
   "cell_type": "code",
   "execution_count": 215,
   "metadata": {},
   "outputs": [
    {
     "name": "stdout",
     "output_type": "stream",
     "text": [
      "Количество итераций до сходимости:  1000\n",
      "(array([nan, nan, nan, nan, nan, nan, nan, nan, nan, nan, nan, nan, nan,\n",
      "       nan, nan, nan, nan, nan, nan, nan, nan, nan, nan, nan, nan, nan,\n",
      "       nan, nan, nan, nan]), 10000)\n"
     ]
    }
   ],
   "source": [
    "x0 = x_res - 0.001\n",
    "x_Jac = Jacobi(x0, B, c, 10000, 1e-6)\n",
    "print('Количество итераций до сходимости: ', res_jac[1])\n",
    "print(x_Jac)"
   ]
  },
  {
   "cell_type": "markdown",
   "metadata": {},
   "source": [
    "Метод простой итерации не работает... Попробую метод релаксации из предыдущей задачи."
   ]
  },
  {
   "cell_type": "code",
   "execution_count": 226,
   "metadata": {},
   "outputs": [],
   "source": [
    "x_SOR, count = SOR(B, c , 1000, x0, 1e-6, 0.4 )"
   ]
  },
  {
   "cell_type": "code",
   "execution_count": 227,
   "metadata": {},
   "outputs": [
    {
     "name": "stdout",
     "output_type": "stream",
     "text": [
      "Количество итераций: 8\n"
     ]
    }
   ],
   "source": [
    "print(\"Количество итераций:\", count)"
   ]
  },
  {
   "cell_type": "markdown",
   "metadata": {},
   "source": [
    "Наилучшее значение параметра релаксации омега "
   ]
  },
  {
   "cell_type": "code",
   "execution_count": 237,
   "metadata": {},
   "outputs": [
    {
     "name": "stderr",
     "output_type": "stream",
     "text": [
      "/anaconda3/lib/python3.6/site-packages/ipykernel_launcher.py:9: RuntimeWarning: overflow encountered in subtract\n",
      "  if __name__ == '__main__':\n",
      "/anaconda3/lib/python3.6/site-packages/ipykernel_launcher.py:8: RuntimeWarning: overflow encountered in add\n",
      "  \n",
      "/anaconda3/lib/python3.6/site-packages/ipykernel_launcher.py:8: RuntimeWarning: overflow encountered in multiply\n",
      "  \n"
     ]
    },
    {
     "name": "stdout",
     "output_type": "stream",
     "text": [
      "Оптимальное значение параметра релаксации w:  0.332653\n",
      "Решение: \n",
      " [[0.010385]\n",
      " [0.010226]\n",
      " [0.010068]\n",
      " [0.009912]\n",
      " [0.009756]\n",
      " [0.009602]\n",
      " [0.009448]\n",
      " [0.009296]\n",
      " [0.009144]\n",
      " [0.008994]\n",
      " [0.008845]\n",
      " [0.008696]\n",
      " [0.008549]\n",
      " [0.008403]\n",
      " [0.008257]\n",
      " [0.008113]\n",
      " [0.00797 ]\n",
      " [0.007827]\n",
      " [0.007686]\n",
      " [0.007545]\n",
      " [0.007406]\n",
      " [0.007267]\n",
      " [0.00713 ]\n",
      " [0.006993]\n",
      " [0.006857]\n",
      " [0.006723]\n",
      " [0.006589]\n",
      " [0.006456]\n",
      " [0.006324]\n",
      " [0.006193]]\n"
     ]
    }
   ],
   "source": [
    "omegas = np.linspace(0.1, 2, 50)\n",
    "iterations = []\n",
    "for w in omegas:\n",
    "    x, it = SOR(B, c , 1000, x0, 1e-6, w )\n",
    "    iterations.append(it)\n",
    "\n",
    "w_optim = omegas[iterations.index(min(iterations))]\n",
    "print(\"Оптимальное значение параметра релаксации w: \", np.round(w_optim,6))\n",
    "print(\"Решение: \\n\", np.round(SOR(B, c , 1000, x0, 1e-6, w_optim )[0].reshape(n,1),6))"
   ]
  },
  {
   "cell_type": "code",
   "execution_count": null,
   "metadata": {},
   "outputs": [],
   "source": []
  },
  {
   "cell_type": "code",
   "execution_count": null,
   "metadata": {},
   "outputs": [],
   "source": []
  }
 ],
 "metadata": {
  "kernelspec": {
   "display_name": "Python 3",
   "language": "python",
   "name": "python3"
  },
  "language_info": {
   "codemirror_mode": {
    "name": "ipython",
    "version": 3
   },
   "file_extension": ".py",
   "mimetype": "text/x-python",
   "name": "python",
   "nbconvert_exporter": "python",
   "pygments_lexer": "ipython3",
   "version": "3.6.8"
  }
 },
 "nbformat": 4,
 "nbformat_minor": 2
}
