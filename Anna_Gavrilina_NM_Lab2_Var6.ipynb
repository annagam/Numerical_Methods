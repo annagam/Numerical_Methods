{
 "cells": [
  {
   "cell_type": "markdown",
   "metadata": {},
   "source": [
    "# Анна Гаврилина\n",
    "# Лабораторная работа №2\n",
    "# Вариант №6\n"
   ]
  },
  {
   "cell_type": "markdown",
   "metadata": {},
   "source": [
    "### Задача 2.7.1\n"
   ]
  },
  {
   "cell_type": "markdown",
   "metadata": {},
   "source": [
    "### Локализовать корни уравнения f(x)=0. Найти их с точностью ε =10−5 и ε =10−12 , используя метод Ньютона, упрощенный метод Ньютона и метод секущих**. Сравнить скорость сходимости методов (по числу итераций) для каждого значения ε ."
   ]
  },
  {
   "cell_type": "code",
   "execution_count": 3,
   "metadata": {},
   "outputs": [],
   "source": [
    "import numpy as np\n",
    "import matplotlib.pyplot as plt\n",
    "%matplotlib inline"
   ]
  },
  {
   "cell_type": "markdown",
   "metadata": {},
   "source": [
    "##### Графичекси локализую корни"
   ]
  },
  {
   "cell_type": "code",
   "execution_count": 4,
   "metadata": {},
   "outputs": [
    {
     "data": {
      "image/png": "[encoded data removed]",
      "text/plain": [
       "<Figure size 432x288 with 1 Axes>"
      ]
     },
     "metadata": {},
     "output_type": "display_data"
    }
   ],
   "source": [
    "def f1(x):\n",
    "    return x*np.log(x) - np.square(x) + 3*x - 1\n",
    "\n",
    "x1 = np.linspace(0.1,5,300)\n",
    "plt.plot(x1,f1(x1),lw=2,ls='--',color='olive')\n",
    "plt.plot(x1,x1*0,color='m')\n",
    "plt.grid(True)\n",
    "plt.xlabel('x',fontsize = 16)\n",
    "plt.ylabel('g(x)',fontsize = 16)\n",
    "plt.show()\n"
   ]
  },
  {
   "cell_type": "markdown",
   "metadata": {},
   "source": [
    "##### Метод Ньютона\n"
   ]
  },
  {
   "cell_type": "code",
   "execution_count": 7,
   "metadata": {},
   "outputs": [],
   "source": [
    "eps1 = 1e-5\n",
    "eps2 = 1e-10\n",
    "\n",
    "def derivative_f1(x):\n",
    "    return np.log(x) - 2*x + 4\n",
    "\n",
    "def newton_meth (f, der, x0, eps):\n",
    "    counter = 0\n",
    "    xn = x0 - f(x0)/der(x0)\n",
    "    while abs(xn - x0) > eps:\n",
    "        counter += 1\n",
    "        x0 = xn\n",
    "        xn =  xn = x0 - f(x0)/der(x0)\n",
    "    return xn, counter\n",
    "\n"
   ]
  },
  {
   "cell_type": "markdown",
   "metadata": {},
   "source": [
    "##### Упрощенный метод Ньютона"
   ]
  },
  {
   "cell_type": "code",
   "execution_count": 11,
   "metadata": {},
   "outputs": [],
   "source": [
    "def simple_newton(f, der, x0, eps):\n",
    "    counter = 0\n",
    "    xn = x0\n",
    "    xn1 = xn - f(xn)/der(x0)\n",
    "    while abs(xn1 - xn) > eps:\n",
    "        counter += 1\n",
    "        xn = xn1\n",
    "        xn1 = xn - f(xn)/der(x0)\n",
    "    return xn1, counter\n"
   ]
  },
  {
   "cell_type": "markdown",
   "metadata": {},
   "source": [
    "##### Метод секущих\n"
   ]
  },
  {
   "cell_type": "code",
   "execution_count": 10,
   "metadata": {},
   "outputs": [],
   "source": [
    "def secants(f, x0, x1, eps):\n",
    "    counter = 0\n",
    "    xn = x1 - f(x1)*(x0 - x1)/(f(x0) - f(x1))\n",
    "    while abs(xn - x1) > eps:\n",
    "        counter += 1\n",
    "        x0 = x1\n",
    "        x1 = xn\n",
    "        xn = x1 - f(x1)*(x0 - x1)/(f(x0) - f(x1))\n",
    "    return xn, counter\n",
    "\n"
   ]
  },
  {
   "cell_type": "markdown",
   "metadata": {},
   "source": [
    "##### Применяю методы для окрестностей корней"
   ]
  },
  {
   "cell_type": "code",
   "execution_count": 12,
   "metadata": {},
   "outputs": [
    {
     "name": "stdout",
     "output_type": "stream",
     "text": [
      "For [4.50,4.00 ]:\n",
      "\n",
      "Newton's method\n",
      "eps =  1e-05 , x1 = 4.19573 , iterations = 3\n",
      "eps =  1e-10 , x1 = 4.1957297071 , iterations = 4\n",
      "\n",
      "Simple Newton\n",
      "eps =  1e-05 , x1 = 4.19573 , iterations = 5\n",
      "eps =  1e-10 , x1 = 4.1957297071 , iterations = 11\n",
      "\n",
      "Secants\n",
      "eps =  1e-05 , x1 = 4.19573 , iterations = 3\n",
      "eps =  1e-10 , x1 = 4.1957297071 , iterations = 5\n"
     ]
    }
   ],
   "source": [
    "a = 4.5\n",
    "b = 4\n",
    "print(\"For [%0.2f,%0.2f ]:\" %(a,b))\n",
    "print(\"\\nNewton's method\")\n",
    "w = newton_meth(f1, derivative_f1, b, eps1)\n",
    "print('eps = ',eps1, ', x1 = %.5f' %w[0], ', iterations =', w[1])\n",
    "\n",
    "w = newton_meth(f1, derivative_f1, b, eps2)\n",
    "print('eps = ',eps2, ', x1 = %.10f' %w[0], ', iterations =', w[1])\n",
    "\n",
    "print(\"\\nSimple Newton\")\n",
    "w = simple_newton(f1, derivative_f1, b, eps1)\n",
    "print('eps = ',eps1, ', x1 = %.5f' %w[0], ', iterations =', w[1])\n",
    "\n",
    "w = simple_newton(f1, derivative_f1, b, eps2)\n",
    "print('eps = ',eps2, ', x1 = %.10f' %w[0], ', iterations =', w[1])\n",
    "\n",
    "print(\"\\nSecants\")\n",
    "w = secants(f1, b, a, eps1)\n",
    "print('eps = ',eps1, ', x1 = %.5f' %w[0], ', iterations =', w[1])\n",
    "\n",
    "w = secants(f1, b, a, eps2)\n",
    "print('eps = ',eps2, ', x1 = %.10f' %w[0], ', iterations =', w[1])\n"
   ]
  },
  {
   "cell_type": "code",
   "execution_count": 14,
   "metadata": {},
   "outputs": [
    {
     "name": "stdout",
     "output_type": "stream",
     "text": [
      "For [0.40,0.60 ]:\n",
      "\n",
      "Newton's method\n",
      "eps =  1e-05 , x1 = 0.54188 , iterations = 2\n",
      "eps =  1e-10 , x1 = 0.5418841722 , iterations = 3\n",
      "\n",
      "Simple Newton\n",
      "eps =  1e-05 , x1 = 0.54188 , iterations = 2\n",
      "eps =  1e-10 , x1 = 0.5418841722 , iterations = 4\n",
      "\n",
      "Secants\n",
      "eps =  1e-05 , x1 = 0.54188 , iterations = 2\n",
      "eps =  1e-10 , x1 = 0.5418841722 , iterations = 3\n"
     ]
    }
   ],
   "source": [
    "a = 0.4\n",
    "b = 0.6\n",
    "print(\"For [%0.2f,%0.2f ]:\" %(a,b))\n",
    "print(\"\\nNewton's method\")\n",
    "w = newton_meth(f1, derivative_f1, b, eps1)\n",
    "print('eps = ',eps1, ', x1 = %.5f' %w[0], ', iterations =', w[1])\n",
    "\n",
    "w = newton_meth(f1, derivative_f1, b, eps2)\n",
    "print('eps = ',eps2, ', x1 = %.10f' %w[0], ', iterations =', w[1])\n",
    "\n",
    "print(\"\\nSimple Newton\")\n",
    "w = simple_newton(f1, derivative_f1, b, eps1)\n",
    "print('eps = ',eps1, ', x1 = %.5f' %w[0], ', iterations =', w[1])\n",
    "\n",
    "w = simple_newton(f1, derivative_f1, b, eps2)\n",
    "print('eps = ',eps2, ', x1 = %.10f' %w[0], ', iterations =', w[1])\n",
    "\n",
    "print(\"\\nSecants\")\n",
    "w = secants(f1, b, a, eps1)\n",
    "print('eps = ',eps1, ', x1 = %.5f' %w[0], ', iterations =', w[1])\n",
    "\n",
    "w = secants(f1, b, a, eps2)\n",
    "print('eps = ',eps2, ', x1 = %.10f' %w[0], ', iterations =', w[1])"
   ]
  },
  {
   "cell_type": "markdown",
   "metadata": {},
   "source": [
    "##### Метод Ньютона оказался более быстрым, ему потребовалось меньшее число итераций"
   ]
  },
  {
   "cell_type": "markdown",
   "metadata": {},
   "source": [
    "### Задача 2.8.2"
   ]
  },
  {
   "cell_type": "markdown",
   "metadata": {},
   "source": [
    "#### Найти приближенно все (в том числе комплексные) корни уравнения f(x)=0 с точностью ε = 10−5 ,используя метод Ньютона.\n",
    "#### УКАЗАНИЕ. Для поиска комплексных корней следует использовать комплексные начальные приближения."
   ]
  },
  {
   "cell_type": "code",
   "execution_count": 20,
   "metadata": {},
   "outputs": [
    {
     "data": {
      "image/png": "[encoded data removed]",
      "text/plain": [
       "<Figure size 500x2000 with 1 Axes>"
      ]
     },
     "metadata": {},
     "output_type": "display_data"
    }
   ],
   "source": [
    "eps6 = 1e-5\n",
    "\n",
    "def f2(x):\n",
    "    return x**4 - 2.7*x**3 + 3\n",
    "\n",
    "\n",
    "x2 = np.linspace(-5,5,300)\n",
    "\n",
    "plt.figure(figsize = (5,20), dpi=100)\n",
    "plt.plot(x2,f2(x2),lw=2,ls='--',color='olive')\n",
    "\n",
    "plt.plot(x2,x2*0,color='m')\n",
    "plt.grid(True)\n",
    "plt.xlabel('x',fontsize = 16)\n",
    "plt.ylabel('f(x)',fontsize = 16)\n",
    "plt.show()"
   ]
  },
  {
   "cell_type": "code",
   "execution_count": 22,
   "metadata": {},
   "outputs": [],
   "source": [
    "def derivative_f2(x):\n",
    "    return 4*x**3 - 8.1*x**2\n",
    "\n",
    "def newton_meth2 (f, der, x0, eps):\n",
    "    xn = x0 - f(x0)/der(x0)\n",
    "    while (abs(xn - x0) >= eps):\n",
    "        x0 = xn\n",
    "        xn = xn - f(xn)/der(xn)\n",
    "    return xn\n",
    "\n"
   ]
  },
  {
   "cell_type": "markdown",
   "metadata": {},
   "source": [
    "##### Задаю стартовые зеачения"
   ]
  },
  {
   "cell_type": "code",
   "execution_count": 23,
   "metadata": {},
   "outputs": [],
   "source": [
    "x01 = 1\n",
    "x02 = 2.51\n",
    "x03 = complex(-1,-1)\n",
    "x04 = x03.conjugate()\n",
    "start = [x01,x02,x03,x04]"
   ]
  },
  {
   "cell_type": "markdown",
   "metadata": {},
   "source": [
    "##### Применяю метод"
   ]
  },
  {
   "cell_type": "code",
   "execution_count": 29,
   "metadata": {},
   "outputs": [
    {
     "name": "stdout",
     "output_type": "stream",
     "text": [
      "x1 = 1.28451\n",
      "x2 = 2.51037\n",
      "x3 = -0.54744 + -0.79414i\n",
      "x4 = -0.54744 + 0.79414i\n"
     ]
    }
   ],
   "source": [
    "k = 0\n",
    "for i in start:\n",
    "    k += 1\n",
    "    q = newton_meth2(f2, derivative_f2, i, eps6)\n",
    "    if k < 3:\n",
    "        print('x%d = %.5f' %(k,q))\n",
    "    else:\n",
    "        print('x%d = %.5f + %.5fi' %(k,q.real,q.imag))"
   ]
  },
  {
   "cell_type": "code",
   "execution_count": 111,
   "metadata": {},
   "outputs": [],
   "source": [
    "\n",
    "\n",
    "\n",
    "\n"
   ]
  },
  {
   "cell_type": "code",
   "execution_count": 115,
   "metadata": {},
   "outputs": [],
   "source": [
    "\n"
   ]
  },
  {
   "cell_type": "code",
   "execution_count": null,
   "metadata": {},
   "outputs": [],
   "source": [
    "\n"
   ]
  },
  {
   "cell_type": "code",
   "execution_count": null,
   "metadata": {},
   "outputs": [],
   "source": []
  },
  {
   "cell_type": "code",
   "execution_count": null,
   "metadata": {},
   "outputs": [],
   "source": []
  }
 ],
 "metadata": {
  "kernelspec": {
   "display_name": "Python 3",
   "language": "python",
   "name": "python3"
  },
  "language_info": {
   "codemirror_mode": {
    "name": "ipython",
    "version": 3
   },
   "file_extension": ".py",
   "mimetype": "text/x-python",
   "name": "python",
   "nbconvert_exporter": "python",
   "pygments_lexer": "ipython3",
   "version": "3.6.5"
  }
 },
 "nbformat": 4,
 "nbformat_minor": 2
}
